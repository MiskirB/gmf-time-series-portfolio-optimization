{
 "cells": [
  {
   "cell_type": "markdown",
   "id": "7f0cf686",
   "metadata": {},
   "source": [
    "# 04 — Task 3: 12-Month Forecast (TSLA)"
   ]
  },
  {
   "cell_type": "code",
   "execution_count": null,
   "id": "462813a5",
   "metadata": {},
   "outputs": [],
   "source": [
    "# === Colab Setup ===\n",
    "!pip install -U pip --quiet\n",
    "!pip install \"numpy<2.0\" \"scipy<1.11\" --quiet\n",
    "!pip install \"pmdarima==2.0.3\" --quiet\n",
    "!pip install pandas numpy matplotlib seaborn scikit-learn statsmodels yfinance PyPortfolioOpt arch --quiet\n",
    "import sys, os, platform\n",
    "print(\"Python:\", sys.version)\n",
    "print(\"Platform:\", platform.platform())\n",
    "print(\"CWD:\", os.getcwd())"
   ]
  },
  {
   "cell_type": "code",
   "execution_count": null,
   "id": "38b49793",
   "metadata": {},
   "outputs": [],
   "source": [
    "# === Configuration ===\n",
    "START_DATE = \"2015-07-01\"\n",
    "END_DATE   = \"2025-07-31\"\n",
    "TICKERS    = [\"TSLA\", \"BND\", \"SPY\"]\n",
    "BT_START   = \"2024-08-01\"\n",
    "BT_END     = \"2025-07-31\"\n",
    "TRADING_DAYS = 252\n",
    "RISK_FREE_DAILY = 0.0\n",
    "\n",
    "DATA_DIR = \"data\"\n",
    "OUT_PLOTS = \"outputs/plots\"\n",
    "OUT_MODELS = \"outputs/models\"\n",
    "OUT_METRICS = \"outputs/metrics\"\n",
    "\n",
    "for d in [DATA_DIR, OUT_PLOTS, OUT_MODELS, OUT_METRICS]:\n",
    "    os.makedirs(d, exist_ok=True)\n"
   ]
  },
  {
   "cell_type": "code",
   "execution_count": null,
   "id": "55f59096",
   "metadata": {},
   "outputs": [],
   "source": [
    "# === Load ARIMA model and forecast ===\n",
    "import pandas as pd, numpy as np, matplotlib.pyplot as plt\n",
    "from joblib import load\n",
    "import pmdarima as pm\n",
    "\n",
    "prices = pd.read_csv(f\"{DATA_DIR}/prices_adj_close.csv\", index_col=0, parse_dates=True)\n",
    "tsla = prices['TSLA'].dropna()\n",
    "\n",
    "# Load model if available; otherwise fit quickly\n",
    "model_path = f\"{OUT_MODELS}/tsla_arima.pkl\"\n",
    "if os.path.exists(model_path):\n",
    "    arima_model = load(model_path)\n",
    "else:\n",
    "    arima_model = pm.auto_arima(tsla.loc[:'2023-12-31'], seasonal=False, stepwise=True,\n",
    "                                error_action=\"ignore\", suppress_warnings=True, max_p=5, max_q=5, max_d=2)\n",
    "\n",
    "future_periods = 252  # ~12 months\n",
    "fc_future, conf_future = arima_model.predict(n_periods=future_periods, return_conf_int=True)\n",
    "\n",
    "last_date = prices.index.max()\n",
    "future_index = pd.bdate_range(start=last_date + pd.tseries.offsets.BDay(1), periods=future_periods)\n",
    "fc_series = pd.Series(fc_future, index=future_index, name=\"TSLA_Forecast\")\n",
    "\n",
    "plt.figure(figsize=(12,5))\n",
    "plt.plot(prices['TSLA'].iloc[-500:], label=\"History\")\n",
    "plt.plot(fc_series, label=\"12M Forecast\")\n",
    "plt.fill_between(future_index, conf_future[:,0], conf_future[:,1], alpha=0.15, label=\"95% CI\")\n",
    "plt.title(\"TSLA 12-Month Forecast with 95% CI\"); plt.legend(); plt.savefig(f\"{OUT_PLOTS}/tsla_12m_forecast.png\"); plt.show()\n",
    "\n",
    "fc_series.to_csv(f\"{OUT_METRICS}/tsla_forecast_12m.csv\")\n",
    "print(\"Saved forecast to\", f\"{OUT_METRICS}/tsla_forecast_12m.csv\")\n"
   ]
  },
  {
   "cell_type": "markdown",
   "id": "bcebb03e",
   "metadata": {},
   "source": [
    "> Proceed to Notebook 05 to translate the forecast into expected returns and run the Efficient Frontier with PyPortfolioOpt."
   ]
  }
 ],
 "metadata": {},
 "nbformat": 4,
 "nbformat_minor": 5
}
