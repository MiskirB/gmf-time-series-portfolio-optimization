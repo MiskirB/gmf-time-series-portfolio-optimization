{
 "cells": [
  {
   "cell_type": "markdown",
   "id": "21292319",
   "metadata": {},
   "source": [
    "# 05 — Task 4: Efficient Frontier & Optimal Portfolio (TSLA/BND/SPY)"
   ]
  },
  {
   "cell_type": "code",
   "execution_count": null,
   "id": "6156ebba",
   "metadata": {},
   "outputs": [],
   "source": [
    "# === Colab Setup ===\n",
    "!pip install -U pip --quiet\n",
    "!pip install pandas numpy matplotlib seaborn scikit-learn statsmodels yfinance PyPortfolioOpt arch --quiet\n",
    "import sys, os, platform\n",
    "print(\"Python:\", sys.version)\n",
    "print(\"Platform:\", platform.platform())\n",
    "print(\"CWD:\", os.getcwd())"
   ]
  },
  {
   "cell_type": "code",
   "execution_count": null,
   "id": "38b49793",
   "metadata": {},
   "outputs": [],
   "source": [
    "# === Configuration ===\n",
    "START_DATE = \"2015-07-01\"\n",
    "END_DATE   = \"2025-07-31\"\n",
    "TICKERS    = [\"TSLA\", \"BND\", \"SPY\"]\n",
    "BT_START   = \"2024-08-01\"\n",
    "BT_END     = \"2025-07-31\"\n",
    "TRADING_DAYS = 252\n",
    "RISK_FREE_DAILY = 0.0\n",
    "\n",
    "DATA_DIR = \"data\"\n",
    "OUT_PLOTS = \"outputs/plots\"\n",
    "OUT_MODELS = \"outputs/models\"\n",
    "OUT_METRICS = \"outputs/metrics\"\n",
    "\n",
    "for d in [DATA_DIR, OUT_PLOTS, OUT_MODELS, OUT_METRICS]:\n",
    "    os.makedirs(d, exist_ok=True)\n"
   ]
  },
  {
   "cell_type": "code",
   "execution_count": null,
   "id": "e368e099",
   "metadata": {},
   "outputs": [],
   "source": [
    "# === Build expected returns & covariance ===\n",
    "import pandas as pd, numpy as np, matplotlib.pyplot as plt\n",
    "from pypfopt.efficient_frontier import EfficientFrontier\n",
    "\n",
    "prices = pd.read_csv(f\"{DATA_DIR}/prices_adj_close.csv\", index_col=0, parse_dates=True)\n",
    "returns = pd.read_csv(f\"{DATA_DIR}/returns_daily.csv\", index_col=0, parse_dates=True)\n",
    "fc_series = pd.read_csv(f\"{OUT_METRICS}/tsla_forecast_12m.csv\", index_col=0, parse_dates=True).iloc[:,0]\n",
    "\n",
    "# TSLA expected annual return from forecast\n",
    "tsla_fc_daily = fc_series.pct_change().dropna()\n",
    "tsla_exp_annual = (1 + tsla_fc_daily.mean())**TRADING_DAYS - 1\n",
    "\n",
    "# BND & SPY historical annualized mean\n",
    "hist_ann = (1 + returns[['BND','SPY']].mean())**TRADING_DAYS - 1\n",
    "\n",
    "mu = pd.Series({\"TSLA\": tsla_exp_annual, \"BND\": hist_ann['BND'], \"SPY\": hist_ann['SPY']})\n",
    "Sigma = returns[['TSLA','BND','SPY']].cov() * TRADING_DAYS\n",
    "display(\"Expected returns (annualized)\", mu, \"Covariance (annualized)\", Sigma)\n",
    "\n",
    "ef = EfficientFrontier(mu, Sigma)\n",
    "ef.max_sharpe(risk_free_rate=0.0)\n",
    "w_ms = ef.clean_weights()\n",
    "ret_ms, vol_ms, sharpe_ms = ef.portfolio_performance(verbose=False, risk_free_rate=0.0)\n",
    "\n",
    "ef2 = EfficientFrontier(mu, Sigma)\n",
    "ef2.min_volatility()\n",
    "w_mv = ef2.clean_weights()\n",
    "ret_mv, vol_mv, sharpe_mv = ef2.portfolio_performance(verbose=False, risk_free_rate=0.0)\n",
    "\n",
    "print(\"Max Sharpe:\", w_ms, (ret_ms, vol_ms, sharpe_ms))\n",
    "print(\"Min Vol:\", w_mv, (ret_mv, vol_mv, sharpe_mv))\n",
    "\n",
    "# Save weights\n",
    "import json\n",
    "with open(f\"{OUT_METRICS}/weights_max_sharpe.json\",\"w\") as f: json.dump(w_ms, f, indent=2)\n",
    "with open(f\"{OUT_METRICS}/weights_min_vol.json\",\"w\") as f: json.dump(w_mv, f, indent=2)\n"
   ]
  },
  {
   "cell_type": "markdown",
   "id": "be558fff",
   "metadata": {},
   "source": [
    "> Proceed to Notebook 06 to backtest the Max Sharpe (or Min Vol) weights against a 60/40 benchmark."
   ]
  }
 ],
 "metadata": {},
 "nbformat": 4,
 "nbformat_minor": 5
}
