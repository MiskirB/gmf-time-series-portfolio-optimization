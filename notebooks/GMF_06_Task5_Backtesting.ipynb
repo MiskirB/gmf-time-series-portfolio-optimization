{
 "cells": [
  {
   "cell_type": "markdown",
   "id": "a53e3af6",
   "metadata": {},
   "source": [
    "# 06 — Task 5: Backtesting vs 60/40 (Aug 1, 2024 → Jul 31, 2025)"
   ]
  },
  {
   "cell_type": "code",
   "execution_count": null,
   "id": "e036c092",
   "metadata": {},
   "outputs": [],
   "source": [
    "# === Colab Setup ===\n",
    "!pip install -U pip --quiet\n",
    "!pip install pandas numpy matplotlib seaborn scikit-learn statsmodels yfinance PyPortfolioOpt arch --quiet\n",
    "import sys, os, platform\n",
    "print(\"Python:\", sys.version)\n",
    "print(\"Platform:\", platform.platform())\n",
    "print(\"CWD:\", os.getcwd())"
   ]
  },
  {
   "cell_type": "code",
   "execution_count": null,
   "id": "38b49793",
   "metadata": {},
   "outputs": [],
   "source": [
    "# === Configuration ===\n",
    "START_DATE = \"2015-07-01\"\n",
    "END_DATE   = \"2025-07-31\"\n",
    "TICKERS    = [\"TSLA\", \"BND\", \"SPY\"]\n",
    "BT_START   = \"2024-08-01\"\n",
    "BT_END     = \"2025-07-31\"\n",
    "TRADING_DAYS = 252\n",
    "RISK_FREE_DAILY = 0.0\n",
    "\n",
    "DATA_DIR = \"data\"\n",
    "OUT_PLOTS = \"outputs/plots\"\n",
    "OUT_MODELS = \"outputs/models\"\n",
    "OUT_METRICS = \"outputs/metrics\"\n",
    "\n",
    "for d in [DATA_DIR, OUT_PLOTS, OUT_MODELS, OUT_METRICS]:\n",
    "    os.makedirs(d, exist_ok=True)\n"
   ]
  },
  {
   "cell_type": "code",
   "execution_count": null,
   "id": "abb15a94",
   "metadata": {},
   "outputs": [],
   "source": [
    "# === Backtest ===\n",
    "import pandas as pd, numpy as np, matplotlib.pyplot as plt, json\n",
    "\n",
    "returns = pd.read_csv(f\"{DATA_DIR}/returns_daily.csv\", index_col=0, parse_dates=True)\n",
    "with open(f\"{OUT_METRICS}/weights_max_sharpe.json\") as f:\n",
    "    w_ms = json.load(f)\n",
    "\n",
    "bt_rets = returns.loc[BT_START:BT_END, ['TSLA','BND','SPY']].copy()\n",
    "\n",
    "def port_ret(df, weights):\n",
    "    w = pd.Series(weights).reindex(df.columns).fillna(0.0)\n",
    "    return df.mul(w, axis=1).sum(axis=1)\n",
    "\n",
    "strategy = port_ret(bt_rets, w_ms)\n",
    "benchmark = 0.6*bt_rets['SPY'] + 0.4*bt_rets['BND']\n",
    "\n",
    "def cumret(r): return (1 + r).cumprod() - 1\n",
    "def sharpe_ann(r, rf=0.0, td=252):\n",
    "    ex = r - rf; mu = ex.mean()*td; sig = ex.std(ddof=0)*np.sqrt(td); \n",
    "    return mu/sig if sig>0 else np.nan\n",
    "\n",
    "cum_s = cumret(strategy)\n",
    "cum_b = cumret(benchmark)\n",
    "\n",
    "plt.figure(figsize=(12,5))\n",
    "plt.plot(cum_s.index, cum_s, label=\"Strategy (Max Sharpe)\")\n",
    "plt.plot(cum_b.index, cum_b, label=\"Benchmark 60/40\")\n",
    "plt.title(\"Cumulative Returns — Strategy vs Benchmark\")\n",
    "plt.legend(); plt.savefig(f\"{OUT_PLOTS}/backtest_strategy_vs_benchmark.png\"); plt.show()\n",
    "\n",
    "print(f\"Strategy Sharpe: {sharpe_ann(strategy):.3f} | Total Return: {cum_s.iloc[-1]:.2%}\")\n",
    "print(f\"Benchmark Sharpe: {sharpe_ann(benchmark):.3f} | Total Return: {cum_b.iloc[-1]:.2%}\")\n"
   ]
  }
 ],
 "metadata": {},
 "nbformat": 4,
 "nbformat_minor": 5
}
